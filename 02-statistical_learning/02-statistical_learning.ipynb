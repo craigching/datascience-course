{
 "cells": [
  {
   "cell_type": "markdown",
   "metadata": {
    "slideshow": {
     "slide_type": "slide"
    }
   },
   "source": [
    "## What is Statistical Learning?\n",
    "\n",
    "* Independent/Input variables, Predictors, Features\n",
    "* Dependent/Output variable, Response\n",
    "\n",
    "Finding a relationship between Independent and Dependent variables\n",
    "\n",
    "$Y = f(X) + \\epsilon$\n",
    "\n",
    "Statistical learning is a set of approaches for estimating $f$"
   ]
  },
  {
   "cell_type": "markdown",
   "metadata": {
    "slideshow": {
     "slide_type": "slide"
    }
   },
   "source": [
    "## Estimating $f$\n",
    "\n",
    "* Why?\n",
    "    + Prediction\n",
    "    + Inference"
   ]
  },
  {
   "cell_type": "markdown",
   "metadata": {
    "slideshow": {
     "slide_type": "slide"
    }
   },
   "source": [
    "## mtcars dataset\n",
    "\n",
    "|model            |mpg |cyl|disp|hp |drat|wt   |qsec |vs |am |gear|carb|\n",
    "|-----------------|----|---|----|---|----|-----|-----|---|---|----|----|\n",
    "|Mazda RX4        |21  |6  |160 |110|3.9 |2.62 |16.46|0  |1  |4   |4   |\n",
    "|Mazda RX4 Wag    |21  |6  |160 |110|3.9 |2.875|17.02|0  |1  |4   |4   |\n",
    "|Datsun 710       |22.8|4  |108 |93 |3.85|2.32 |18.61|1  |1  |4   |1   |\n",
    "|Hornet 4 Drive   |21.4|6  |258 |110|3.08|3.215|19.44|1  |0  |3   |1   |\n",
    "|Hornet Sportabout|18.7|8  |360 |175|3.15|3.44 |17.02|0  |0  |3   |2   |\n",
    "|Valiant          |18.1|6  |225 |105|2.76|3.46 |20.22|1  |0  |3   |1   |\n",
    "|Duster 360       |14.3|8  |360 |245|3.21|3.57 |15.84|0  |0  |3   |4   |"
   ]
  },
  {
   "cell_type": "markdown",
   "metadata": {
    "slideshow": {
     "slide_type": "slide"
    }
   },
   "source": [
    "## Prediction\n",
    "\n",
    "$\\hat{Y} = \\hat{f}(X)$\n",
    "\n",
    "* For prediction $\\hat{f}$ may be considered a black box, provided that it yields accurate predictions for $Y$"
   ]
  },
  {
   "cell_type": "markdown",
   "metadata": {
    "slideshow": {
     "slide_type": "slide"
    }
   },
   "source": [
    "## Prediction - Error\n",
    "\n",
    "$E(Y - \\hat{Y})^2 = [f(X) - \\hat{f}(X)]^2 + Var(\\epsilon)$\n",
    "\n",
    "* Reducible Error\n",
    "    + The accuracy of $\\hat{f}$ can be improved by using the most appropriate statistical learning technique\n",
    "* Irreducible Error\n",
    "    + $Y$ is also a function of $\\epsilon$ which can't be predicted by $X$\n",
    "    + Variability associated with $\\epsilon$ affects the accuracy of our predictions\n",
    "    \n",
    "\"The focus of this book is on techniques for estimating f with the aim of minimizing the reducible error\""
   ]
  },
  {
   "cell_type": "markdown",
   "metadata": {
    "slideshow": {
     "slide_type": "slide"
    }
   },
   "source": [
    "## Inference\n",
    "\n",
    "* Want to understand the relationship between $X$ and $Y$\n",
    "* $f$ cannot be treated as a black box\n",
    "* Want to answer the following questions:\n",
    "    + Which predictors are associated with the response?\n",
    "    + What is the relationship between the response and each predictor?\n",
    "    + Can the relationship between Y and each predictor be adequately summarized using a linear equation, or is the relationship more complicated?\n",
    "\n",
    "Sometimes the goal is prediction, sometimes it's inference and sometimes it's a combination of the two"
   ]
  },
  {
   "cell_type": "markdown",
   "metadata": {
    "slideshow": {
     "slide_type": "slide"
    }
   },
   "source": [
    "## Estimating $f$\n",
    "\n",
    "* How?\n",
    "    + Parametric\n",
    "    + Non-parametric\n",
    "\n",
    "What are the advantages and disadvantages of each?\n",
    "\n",
    "* Parametric models reduce the problem of estimating $f$ down to estimating a set of parameters\n",
    "  + Linear models, $Y \\approx \\beta_0 + \\beta_1 X_1 + \\beta_2 X_2 + ... + \\beta_p X_p$\n",
    "* Non-parameteric models do not reduce the problem of estimating $f$ to a small number of parameters and, thus, require far more observations for an accurate estimate of $f$"
   ]
  },
  {
   "cell_type": "markdown",
   "metadata": {
    "slideshow": {
     "slide_type": "slide"
    }
   },
   "source": [
    "## True Model\n",
    "\n",
    "![true_function](./images/true-function.png)\n",
    "\n",
    "Figure 2.3 in the book represents the *true* model of the data."
   ]
  },
  {
   "cell_type": "markdown",
   "metadata": {
    "slideshow": {
     "slide_type": "slide"
    }
   },
   "source": [
    "## Parametric Model\n",
    "\n",
    "![linear_model](./images/linear-model.png)\n",
    "\n",
    "Figure 2.4 is a linear model of the data which represents a parametric approach."
   ]
  },
  {
   "cell_type": "markdown",
   "metadata": {
    "slideshow": {
     "slide_type": "slide"
    }
   },
   "source": [
    "## Non-Parametric Model\n",
    "\n",
    "![smooth_thin_plate_spline_fit](./images/smooth-thin-plate-spline-fit.png)\n",
    "\n",
    "\n",
    "Figure 2.5 shows a smooth thin-plate spline model of the data which represents a non-parametric approach.\n",
    "  + Notice the increased variability in the fit compared to the true model!"
   ]
  },
  {
   "cell_type": "markdown",
   "metadata": {
    "slideshow": {
     "slide_type": "slide"
    }
   },
   "source": [
    "## Prediction Accuracy vs. Interpretability\n",
    "\n",
    "![accuracy_vs_interpretability](./images/accuracy-vs-interpretability.png)"
   ]
  },
  {
   "cell_type": "markdown",
   "metadata": {
    "slideshow": {
     "slide_type": "slide"
    }
   },
   "source": [
    "## Supervised vs. Unsupervised Learning\n",
    "\n",
    "* Supervised Learning\n",
    "\t+ Fit a model that relates the response to the predictors\n",
    "\t+ Linear regression, logistic regression, GAM, boosting, support vector machines\n",
    "* Unsupervised Learning\n",
    "\t+ Vector of measurements but no response\n",
    "\t+ Lack a response variable that can supervise our analysis\n",
    "\t+ Cluster analysis\n",
    "* Semi-supervised Learning\n",
    "\t+ May be some criteria within the data that allows a supervised method if defined"
   ]
  },
  {
   "cell_type": "markdown",
   "metadata": {
    "slideshow": {
     "slide_type": "slide"
    }
   },
   "source": [
    "## Regression vs. Classification\n",
    "\n",
    "* Problems where we want to predict quantitative responses are referred to as *regression* problems\n",
    "* Problems where we want to predict qualitative responses are referred to as *classification* problems\n",
    "\n",
    "Choose based on the type of the *response* variable, the *predictors* are generally considered less important and can work with most learning methods regardless of the predictor variable type provided that any qualitative predictors are properly *coded* before any analysis is performed"
   ]
  },
  {
   "cell_type": "markdown",
   "metadata": {
    "slideshow": {
     "slide_type": "slide"
    }
   },
   "source": [
    "## Assessing Model Accuracy\n",
    "\n",
    "* Why so many methods?\n",
    "\t+ No one method dominates over all data sets\n",
    "\n",
    "Must decide which method performs the best for any given data set"
   ]
  },
  {
   "cell_type": "markdown",
   "metadata": {
    "slideshow": {
     "slide_type": "slide"
    }
   },
   "source": [
    "## Measuring Quality of Fit\n",
    "\n",
    "For regression:\n",
    "\n",
    "$MSE = \\frac{1}{n}\\sum_{i=1}^n (y_i - \\hat{f}(x_i))^2$\n",
    "\n",
    "* Must use caution when determining quality of fit using the training data set\n",
    "* Sometimes a test data set is not available\n",
    "\n",
    "\"We are interested in the accuracy of the predictions that we obtain when we apply our method to previously unseen test data\"\n",
    "\n",
    "* Later chapters describe techniques to overcome these limitations, for instance, cross-validation\n",
    "* Review Figures 2.9, 2.10 and 2.11"
   ]
  },
  {
   "cell_type": "markdown",
   "metadata": {
    "slideshow": {
     "slide_type": "slide"
    }
   },
   "source": [
    "## Figure 2.9\n",
    "\n",
    "![fig_2_9](images/2.9.png)"
   ]
  },
  {
   "cell_type": "markdown",
   "metadata": {
    "slideshow": {
     "slide_type": "slide"
    }
   },
   "source": [
    "## Figure 2.10\n",
    "\n",
    "![fig_2_10](images/2.10.png)"
   ]
  },
  {
   "cell_type": "markdown",
   "metadata": {
    "slideshow": {
     "slide_type": "slide"
    }
   },
   "source": [
    "## Figure 2.11\n",
    "\n",
    "![fig_2_11](images/2.11.png)"
   ]
  },
  {
   "cell_type": "markdown",
   "metadata": {
    "slideshow": {
     "slide_type": "slide"
    }
   },
   "source": [
    "##  Overfitting\n",
    "\n",
    "* When a given method yields a small training MSE, but a large test MSE\n",
    "* \"When we overfit the training data, the test MSE will be very large because the supposed patterns that the method found in the training data simply don't exist in the test data\"\n",
    "* Note that we do expect the training MSE to be smaller than the test MSE because most learning methods either directly or indirectly seek to minimize the MSE"
   ]
  },
  {
   "cell_type": "markdown",
   "metadata": {
    "slideshow": {
     "slide_type": "slide"
    }
   },
   "source": [
    "## Bias Variance Trade-off\n",
    "\n",
    "$E(y_0 - \\hat{f}(x_0))^2 = Var(\\hat{f}(x_o)) + [Bias(\\hat{f}(x_0))]^2 + Var(\\epsilon)$\n",
    "\n",
    "* Variance\n",
    "\t+ *Variance* refers to the amount by which $\\hat{f}$ would change if we estimated it using a different training data set\n",
    "\t+ Generally, more flexible methods have higher variance\n",
    "* Bias\n",
    "\t+ *Bias* refers to the error that is introduced by approximating a real-life problem, which may be extremely complicated, by a much simpler model\n",
    "\t+ Generally, more flexible methods result in less bias\n",
    "\n",
    "As a general rule, as we use more flexible methods, the variance will increase and the bias will decrease"
   ]
  },
  {
   "cell_type": "markdown",
   "metadata": {
    "slideshow": {
     "slide_type": "slide"
    }
   },
   "source": [
    "## Classification\n",
    "\n",
    "* Most concepts from regression apply to classification with some modifications due to the fact that $y_i$ is no longer numerical (it is categorical)\n",
    "* Training error rate\n",
    "\n",
    "$\\frac{1}{n}\\sum_{i=1}^nI(y_i \\neq \\hat{y_i})$\n",
    "\n",
    "* Test error rate\n",
    "\n",
    "$Ave(I(y_0 \\neq \\hat{y_0}))$\n",
    "\n",
    "* A *good* classifier is one for which the test error is smallest"
   ]
  },
  {
   "cell_type": "markdown",
   "metadata": {
    "slideshow": {
     "slide_type": "slide"
    }
   },
   "source": [
    "## The Bayes Classifier\n",
    "\n",
    "* The Bayes classifier:\n",
    "\n",
    "$Pr(Y = j | X = x_0)$\n",
    "\n",
    "* is a *conditional probability*\n",
    "* Establishes the *Bayes decision boundary*\n",
    "* Bayes error rate\n",
    "\n",
    "$1 - E(max_j Pr(Y = j|X))$\n",
    "\n",
    "* Analogous to the irreducible error in regression\n",
    "* Used as a benchmark in classification\n",
    "* Great link to understand more: https://stats.stackexchange.com/questions/567299/what-does-it-mean-for-the-bayes-classifier-to-be-optimal"
   ]
  },
  {
   "cell_type": "markdown",
   "metadata": {
    "slideshow": {
     "slide_type": "slide"
    }
   },
   "source": [
    "## K Nearest Neighbors\n",
    "\n",
    "<image src=\"./images/knn-algorithm.png\" height=\"800\" width=\"800\">\n",
    "\n",
    "* Estimate the conditional distribution of $Y$ given $X$\n",
    "* Classify based on K nearest neighbors\n",
    "* KNN decison boundary"
   ]
  },
  {
   "cell_type": "markdown",
   "metadata": {
    "slideshow": {
     "slide_type": "slide"
    }
   },
   "source": [
    "## K Nearest Neighbors\n",
    "\n",
    "* K == 10, compares favorably with the Bayes decision boundary\n",
    "\n",
    "<image src=\"./images/knn-10.png\" height=\"400\" width=\"400\">"
   ]
  },
  {
   "cell_type": "markdown",
   "metadata": {
    "slideshow": {
     "slide_type": "slide"
    }
   },
   "source": [
    "## K Nearest Neighbors\n",
    "\n",
    "* K == 1 and K == 100\n",
    "\n",
    "![knn_1_and_100](./images/knn-1-and-100.png)\n",
    "\n",
    "* K == 1, overfit, overly flexible\n",
    "* K == 100, almost linear, not sufficiently flexible"
   ]
  },
  {
   "cell_type": "markdown",
   "metadata": {
    "slideshow": {
     "slide_type": "slide"
    }
   },
   "source": [
    "## Pop Quiz!"
   ]
  },
  {
   "cell_type": "markdown",
   "metadata": {
    "slideshow": {
     "slide_type": "slide"
    }
   },
   "source": [
    "## Parametric vs. Non-Parametric\n",
    "\n",
    "Is KNN a parametric or a non-parametric algorithm?"
   ]
  },
  {
   "cell_type": "markdown",
   "metadata": {
    "slideshow": {
     "slide_type": "subslide"
    }
   },
   "source": [
    "## Explanation\n",
    "\n",
    "KNN is a non-parametric algorithm.  The \"fit\" process does nothing, during prediction, the given point on which to predict is simply compared to the nearest neighbors in the dataset.  Non-parametric algorithms are sometimes called \"lazy\" for this reason and they can be memory hungry due to having to keep all the data around to perform predictions."
   ]
  },
  {
   "cell_type": "markdown",
   "metadata": {
    "slideshow": {
     "slide_type": "slide"
    }
   },
   "source": [
    "## Mean Squared Error\n",
    "\n",
    "MSE seems like it exaggerates the predictions that are wrong.  Is this a feature or a bug?\n",
    "Recall: $MSE = \\frac{1}{n}\\sum_{i=1}^n (y_i - \\hat{f}(x_i))^2$"
   ]
  },
  {
   "cell_type": "markdown",
   "metadata": {
    "slideshow": {
     "slide_type": "subslide"
    }
   },
   "source": [
    "### Explanation\n",
    "\n",
    "It is a feature when used appropriately.  Note that in neural networks and deep learning, such errors can have a negative effect on learning performance and other means are employed to keep the error from growing too high in the presence of mis-predictions."
   ]
  },
  {
   "cell_type": "markdown",
   "metadata": {
    "slideshow": {
     "slide_type": "slide"
    }
   },
   "source": [
    "## Bias-Variance Tradeoff vs. Overfitting\n",
    "\n",
    "I first tried a linear model and both my training error and test error were bad.  I then tried a smoothing spline, but, this time I nailed my training error, but my test error was still bad.  What problem am I facing?\n",
    "\n",
    "1. Bias-Variance Tradeoff\n",
    "2. Overfitting\n",
    "3. Both\n",
    "4. Something else"
   ]
  },
  {
   "cell_type": "markdown",
   "metadata": {
    "slideshow": {
     "slide_type": "subslide"
    }
   },
   "source": [
    "### Explanation\n",
    "\n",
    "This is the situation in figure 2.9.  The linear model suffered from bias, the true function was not linear, so neither the training error nor the test error were good.  The high degree spline model suffered from overfitting on the training data, but poor performance on test data.  The right model to use is something that doesn't fit the training set quite as well so that it can generalize to unseen data better."
   ]
  }
 ],
 "metadata": {
  "kernelspec": {
   "display_name": ".venv",
   "language": "python",
   "name": "python3"
  },
  "language_info": {
   "name": "python",
   "version": "3.11.6"
  },
  "orig_nbformat": 4
 },
 "nbformat": 4,
 "nbformat_minor": 2
}
