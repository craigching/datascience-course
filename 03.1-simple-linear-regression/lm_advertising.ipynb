{
 "cells": [
  {
   "cell_type": "markdown",
   "metadata": {},
   "source": [
    "# Simple Linear Regression\n",
    "In this notebook, we'll use the advertising dataset from chapter 2 of ISLR to do a simple linear regression analysis to show the relationship between unit sales and television budget advertising. Simple linear regression uses a single independent variable (or feature or predictor) and a single dependent variable (or response) to build a linear model to predict future, unseen responses.  Linear regression can also be used for inference, i.e. understanding the relationship between the predictor(s) and the response.\n",
    "\n",
    "In this analysis, we will only use the TV advertising budget for unit sales."
   ]
  },
  {
   "cell_type": "markdown",
   "metadata": {},
   "source": [
    "## Read the dataset and visualize it\n",
    "The first thing we want to do is read in the dataset and learn something about it.  We have many means at our disposal to understand a dataset, but understand that highly dimensional datasets (i.e. those that have more than two predictors) are harder to visualize.  In this case, we have a single predictor, so we have more options at our disposal.\n",
    "\n",
    "Here, we'll print out some part of our dataset and we'll plot TV budget vs Unit Sales."
   ]
  },
  {
   "cell_type": "code",
   "execution_count": null,
   "metadata": {},
   "outputs": [],
   "source": [
    "from sklearn import linear_model\n",
    "import pandas as pd\n",
    "\n",
    "df = pd.read_csv(\"Advertising.csv\")\n",
    "\n",
    "df.head()"
   ]
  },
  {
   "cell_type": "markdown",
   "metadata": {},
   "source": [
    "Next, let's plot unit sales vs. TV budget"
   ]
  },
  {
   "cell_type": "code",
   "execution_count": null,
   "metadata": {},
   "outputs": [],
   "source": [
    "import matplotlib.pyplot as plt\n",
    "%matplotlib inline\n",
    "\n",
    "plt.scatter(df.TV, df.Sales,  color='black')\n",
    "plt.show()"
   ]
  },
  {
   "cell_type": "markdown",
   "metadata": {},
   "source": [
    "## Fitting a model\n",
    "\n",
    "So, given the plot above, does it seem reasonable that a linear model makes sense to describe the relationship between TV budget and unit sales?  Well, it does, but do you notice anything unusual about the plot?"
   ]
  },
  {
   "cell_type": "markdown",
   "metadata": {},
   "source": [
    "The data above (Sales ~ TV) exhibit a pattern called **heteroscedasticity**.  This means that the variance in the response grows with an increase in the predictor.  Generally speaking, and depending on what you're trying to do, you should use caution using linear regression in the presence of heteroscedacticity.  For our purporses, we don't care as we're just learning."
   ]
  },
  {
   "cell_type": "code",
   "execution_count": null,
   "metadata": {},
   "outputs": [],
   "source": [
    "lm = linear_model.LinearRegression()\n",
    "\n",
    "lm.fit(df.TV.to_frame(), df.Sales.to_frame())"
   ]
  },
  {
   "cell_type": "code",
   "execution_count": null,
   "metadata": {},
   "outputs": [],
   "source": [
    "# The coefficients\n",
    "print('Coefficient: %.4f' % lm.coef_[0][0])\n",
    "print('Intercept: %.2f' % lm.intercept_[0])"
   ]
  },
  {
   "cell_type": "code",
   "execution_count": null,
   "metadata": {},
   "outputs": [],
   "source": [
    "sales_estimates = lm.predict(df.TV.to_frame())\n",
    "\n",
    "plt.scatter(df.TV, df.Sales,  color='red')\n",
    "plt.plot(df.TV, sales_estimates, color='blue', linewidth=2)\n",
    "\n",
    "plt.show()"
   ]
  }
 ],
 "metadata": {
  "kernelspec": {
   "display_name": "Python 3",
   "language": "python",
   "name": "python3"
  },
  "language_info": {
   "codemirror_mode": {
    "name": "ipython",
    "version": 3
   },
   "file_extension": ".py",
   "mimetype": "text/x-python",
   "name": "python",
   "nbconvert_exporter": "python",
   "pygments_lexer": "ipython3",
   "version": "3.7.0"
  }
 },
 "nbformat": 4,
 "nbformat_minor": 2
}
