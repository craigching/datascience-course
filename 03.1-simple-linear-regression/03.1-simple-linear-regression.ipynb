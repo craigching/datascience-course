{
 "cells": [
  {
   "cell_type": "markdown",
   "metadata": {
    "slideshow": {
     "slide_type": "slide"
    }
   },
   "source": [
    "## Recap\n",
    "\n",
    "* Why Statistical Learning?\n",
    "* Supervised vs. Unsupervised Learning\n",
    "* Regression vs. Classification\n",
    "* Assessing Model Accuracy\n",
    "* Overfitting and Bias-Variance Tradeoff"
   ]
  },
  {
   "cell_type": "markdown",
   "metadata": {
    "slideshow": {
     "slide_type": "slide"
    }
   },
   "source": [
    "## The Advertising Dataset\n",
    "\n",
    "![advertising_least_squares](./images/advertising-least-squares.png)\n",
    "\n",
    "* Sales in thousands of units as a function of budget in thousands of dollars\n",
    "* The blue line shows the **least squares** fit of sales to variable"
   ]
  },
  {
   "cell_type": "markdown",
   "metadata": {
    "slideshow": {
     "slide_type": "slide"
    }
   },
   "source": [
    "## Linear Regression\n",
    "\n",
    "* Simple approach to supervised learning\n",
    "\n",
    "\"... the importance of having a good understanding of linear regression before studying more complex learning methods cannot be overstated.\""
   ]
  },
  {
   "cell_type": "markdown",
   "metadata": {
    "slideshow": {
     "slide_type": "slide"
    }
   },
   "source": [
    "## Important Questions\n",
    "\n",
    "Given the Advertising data:\n",
    "\n",
    "1. Is there a relationship between advertising budget and sales?\n",
    "2. How strong is the relationship between advertising budget and sales?\n",
    "3. Which media contribute to sales?\n",
    "4. How accurately can we estimate the effect of each medium on sales?\n",
    "5. How accurately can we predict future sales?\n",
    "6. Is the relationship linear?\n",
    "7. Is there synergy among the advertising media?"
   ]
  },
  {
   "cell_type": "markdown",
   "metadata": {
    "slideshow": {
     "slide_type": "slide"
    }
   },
   "source": [
    "## Simple Linear Regression\n",
    "\n",
    "* Predict quantitative responses from a single predictor variable\n",
    "\n",
    "$Y \\approx \\beta_0 + \\beta_1X$\n",
    "\n",
    "* We can regress $sales$ onto $TV$ by fitting the model:\n",
    "\n",
    "$sales \\approx \\beta_0 + \\beta_1 \\times TV$\n",
    "\n",
    "* $\\beta_0$ is the intercept\n",
    "* $\\beta_1$ is the slope\n",
    "* $\\beta_0$ and $\\beta_1$ are the model *coefficents* or *parameters*\n",
    "\n",
    "Use training data to produce estimates $\\hat{\\beta_0}$ and $\\hat{\\beta_1}$ for the model coefficients, then:\n",
    "\n",
    "$\\hat{y} = \\hat{\\beta_0} + \\hat{\\beta_1}x$\n",
    "\n",
    "can be used for prediction"
   ]
  },
  {
   "cell_type": "markdown",
   "metadata": {
    "slideshow": {
     "slide_type": "slide"
    }
   },
   "source": [
    "## Estimating the Coefficients\n",
    "\n",
    "* In practice, $\\beta_0$ and $\\beta_1$ are unknown, so we use the data to estimate the coefficients\n",
    "* Given a data set:\n",
    "\n",
    "$(x_1, y_1), (x_2, y_2) \\dots (x_n, y_n)$\n",
    "\n",
    "* Our goal is to find coefficient estimates $\\hat{\\beta_0}$ and $\\hat{\\beta_1}$ such that the linear model fits the data well\n",
    "\n",
    "* Amounts to finding a line of *best fit*\n",
    "* Use the data to *train* a *model*"
   ]
  },
  {
   "cell_type": "markdown",
   "metadata": {
    "slideshow": {
     "slide_type": "slide"
    }
   },
   "source": [
    "## Least Squares\n",
    "\n",
    "* Residuals\n",
    "\n",
    "$\\hat{y_i} = \\hat{\\beta_0} + \\hat{\\beta_1}x_i$ is our prediction for $Y$ based on the $i$th value of $X$.  Then $e_i = y_i - \\hat{y_i}$ is the $i$th *residual*\n",
    "\n",
    "* Residual Sum of Squares (RSS)\n",
    "\n",
    "$RSS = e_1^2 + e_2^2 + ... + e_n^2$\n",
    "\n",
    "* Equivalently\n",
    "\n",
    "$RSS = (y_1 - \\hat{\\beta_0} - \\hat{\\beta_1}x_1)^2 + (y_2 - \\hat{\\beta_0} - \\hat{\\beta_1}x_2)^2 + \\dots (y_n - \\hat{\\beta_0} - \\hat{\\beta_1}x_n)^2$\n",
    "\n",
    "* Choose $\\beta_0$ and $\\beta_1$ to minimize RSS\n",
    "\n",
    "$\\hat{\\beta_1} = \\frac{\\sum_{i = 1}^{n}(x_i - \\bar{x})(y_i - \\bar{y})}{\\sum_{i = 1}^{n}(x_i - \\bar{x})^2}$\n",
    "\n",
    "$\\hat{\\beta_0} = \\bar{y} - \\hat{\\beta_1}\\bar{x_i}$"
   ]
  },
  {
   "cell_type": "markdown",
   "metadata": {
    "slideshow": {
     "slide_type": "slide"
    }
   },
   "source": [
    "## Least Squares Minimization\n",
    "\n",
    "![least_squares_minimization](./images/least-squares-minimization.png)"
   ]
  },
  {
   "cell_type": "markdown",
   "metadata": {
    "slideshow": {
     "slide_type": "slide"
    }
   },
   "source": [
    "## Linear Regression for Advertising Data\n",
    "\n",
    "* $sales \\approx 7.03 + 0.0475TV$\n",
    "* Interpretation: \"An additional $1,000 spent on TV advertising is associated with selling approximately 47.5 additional units of the product.\""
   ]
  },
  {
   "cell_type": "markdown",
   "metadata": {
    "slideshow": {
     "slide_type": "slide"
    }
   },
   "source": [
    "## Least Squares Illustrated\n",
    "\n",
    "![least_squares](./images/least-squares.png)\n",
    "\n",
    "$\\hat{y} = 7.03 + 0.0475x$"
   ]
  },
  {
   "cell_type": "markdown",
   "metadata": {
    "slideshow": {
     "slide_type": "slide"
    }
   },
   "source": [
    "## The Population Regression Line\n",
    "\n",
    "![pop_regression_line](./images/pop-regression-line.png)\n",
    "\n",
    "True model based on $f(X) = 2 + 3X$, red line represents true relationship, dark blue line is the least squares estimate, light blue lines are least squares lines from different data sets\n",
    "\n",
    "* Least squares lines are, on average, close to the population regression line\n",
    "* Example of Variance in \"Bias Variance Tradeoff\""
   ]
  },
  {
   "cell_type": "markdown",
   "metadata": {
    "slideshow": {
     "slide_type": "slide"
    }
   },
   "source": [
    "## Assessing Accuracy of the Coefficient Estimates\n",
    "\n",
    "* Average amount that the coefficients $\\hat{\\beta_0}$ and $\\hat{\\beta_1}$ differ from the true coefficients $\\beta_0$ and $\\beta_1$\n",
    "\n",
    "* Similar to computing standard errors for point estimates of $\\mu$, the point estimate for the population mean\n",
    "\n",
    "* Assume errors $\\epsilon_i$ for each observation are uncorrelated with common variance $\\sigma^2$ (Not true in figure 3.1!)\n",
    "\n",
    "$SE(\\hat{\\beta_0})^2 = \\sigma^2\\Big[\\frac{1}{n} + \\frac{\\bar{x}^2}{\\sum_{i = 1}^{n}(x_i - \\bar{x})^2}\\Big]$\n",
    "\n",
    "$SE(\\hat{\\beta_1})^2 = \\frac{\\sigma^2}{\\sum_{i = 1}^{n}(x_i - \\bar{x})^2}$"
   ]
  },
  {
   "cell_type": "markdown",
   "metadata": {
    "slideshow": {
     "slide_type": "slide"
    }
   },
   "source": [
    "## Confidence Intervals for Coefficient Estimates\n",
    "\n",
    "$\\beta_1 \\pm 2 * SE(\\hat{\\beta_1})$\n",
    "\n",
    "$\\beta_0 \\pm 2 * SE(\\hat{\\beta_0})$\n",
    "\n",
    "$[\\hat{\\beta_1} - 2 * SE(\\hat{\\beta_1}), \\hat{\\beta_1} + 2 * SE(\\hat{\\beta_1})]$\n",
    "\n",
    "\"In the case of the advertising data, the 95% confidence interval for $\\beta_0$ is [6.130, 7.935] and the 95% confidence interval for $\\beta_1$ is [0.042, 0.053]. Therefore, we can conclude that in the absence of any advertising, sales will, on average, fall somewhere between 6,130 and 7,940 units. Furthermore, for each $1,000 increase in television advertising, there will be an average increase in sales of between 42 and 53 units.\""
   ]
  },
  {
   "cell_type": "markdown",
   "metadata": {
    "slideshow": {
     "slide_type": "slide"
    }
   },
   "source": [
    "## Hypothesis Tests for Cofficient Estimates\n",
    "\n",
    "* Standard errors can also be used to perform hypothesis tests on the coefficients\n",
    "\n",
    "$H_0 :$ There is no relationship between $X$ and $Y$\n",
    "\n",
    "$H_a :$ There is some relationship between $X$ and $Y$\n",
    "\n",
    "Mathematically:\n",
    "\n",
    "$H_0 : \\beta_1 = 0$\n",
    "\n",
    "$H_a : \\beta_1 \\neq 0$"
   ]
  },
  {
   "cell_type": "markdown",
   "metadata": {
    "slideshow": {
     "slide_type": "slide"
    }
   },
   "source": [
    "## The *t* Statistic for the Coefficient Estimates\n",
    "\n",
    "* Measures the number of standard deviations that $\\hat{\\beta_1}$ is away from 0\n",
    "* Probability of observing any value equal to |$t$| or larger, assuming $\\beta_1 = 0$, *p-value*\n",
    "\n",
    "$t = \\frac{\\hat{\\beta_1} - 0}{SE(\\hat{\\beta_1})}$\n",
    "\n",
    "![lm_model](./images/lm-model.png)"
   ]
  },
  {
   "cell_type": "markdown",
   "metadata": {
    "slideshow": {
     "slide_type": "slide"
    }
   },
   "source": [
    "## Assessing Model Accuracy\n",
    "\n",
    "* Once we've rejected the null hypothesis in favor of the alternative hypothesis, we want to quantify how well the model fits the data.\n",
    "\n",
    "* Residual Standard Error (RSE)\n",
    "    + Estimates the standard deviation of $\\epsilon$\n",
    "    + Average amount that the response deviates from the true regression line\n",
    "    + Hard to evaluate since it is measured in the same units as $Y$\n",
    "\n",
    "* $R^2$ Statistic\n",
    "    + The proportion of variance explained, always between 0 and 1\n",
    "    + Independent of the scale of $Y$\n",
    "    + Squared correlation and the $R^2$ statistic are identical\n",
    "    + $R^2$ is better than correlation in multiple linear regression"
   ]
  },
  {
   "cell_type": "markdown",
   "metadata": {
    "slideshow": {
     "slide_type": "slide"
    }
   },
   "source": [
    "## RSE and $R^2$ Computations\n",
    "\n",
    "$RSE = \\sqrt{\\frac{1}{n - 2} RSS}$\n",
    "\n",
    "$RSS = \\sum_{i = 1}^{n}(y_i - \\hat{y_i})^2$\n",
    "\n",
    "$R^2 = \\frac{TSS - RSS}{TSS} = 1 - \\frac{RSS}{TSS}$\n",
    "\n",
    "$TSS = \\sum_(y_i - \\bar{y})^2$\n",
    "\n",
    "* RSE is *residual standard error*\n",
    "* RSS is *residual sum of squares*\n",
    "* TSS is *total sum of squares*"
   ]
  },
  {
   "cell_type": "markdown",
   "metadata": {
    "slideshow": {
     "slide_type": "slide"
    }
   },
   "source": [
    "## Pop Quiz!"
   ]
  },
  {
   "cell_type": "markdown",
   "metadata": {
    "slideshow": {
     "slide_type": "slide"
    }
   },
   "source": [
    "When determining the accuracy of coefficient estimates, the following was assumed:\n",
    "\n",
    "* Assume errors $\\epsilon_i$ for each observation are uncorrelated with common variance $\\sigma^2$ (Not true in figure 3.1!)\n",
    "\n",
    "<image src=\"./images/least-squares.png\" height=\"800\" width=\"400\">\n",
    "\n",
    "What is the problem being pointed out here?\n",
    "\n",
    "1. The population model may be non-linear (due to the lower left hand side)\n",
    "2. As the predictor value increases, the spread of the response is more spread out\n"
   ]
  },
  {
   "cell_type": "markdown",
   "metadata": {
    "slideshow": {
     "slide_type": "slide"
    }
   },
   "source": [
    "Both of these are problems with the model chosen for the dataset.  The particular problem that this question is pointing out is that as X gets bigger, there is more spread in the Y values.  This is known as **heteroscedasticity** and violates the assumption made in this example."
   ]
  },
  {
   "cell_type": "markdown",
   "metadata": {
    "slideshow": {
     "slide_type": "slide"
    }
   },
   "source": [
    "## Y-Intercept\n",
    "\n",
    "In the following model, how do we interpet $\\beta_0$?\n",
    "\n",
    "$Y \\approx \\beta_0 + \\beta_1X$\n",
    "\n",
    "1. $\\beta_0$ is the predicted value when $X$ is 0\n",
    "2. $\\beta_0$ is afraid of $\\alpha_0$\n",
    "3. There is nothing special about $\\beta_0$, it's just a number"
   ]
  },
  {
   "cell_type": "markdown",
   "metadata": {
    "slideshow": {
     "slide_type": "slide"
    }
   },
   "source": [
    "## Linear Model Assumption (bias)\n",
    "\n",
    "Is a linear model a good model for $Sales$ ~ $TV$?\n",
    "\n",
    "<image src=\"./images/least-squares.png\" height=\"800\" width=\"400\">\n",
    "\n",
    "1. No\n",
    "2. Yes\n",
    "3. Maybe\n",
    "\n",
    "Why or why not?"
   ]
  }
 ],
 "metadata": {
  "kernelspec": {
   "display_name": ".venv",
   "language": "python",
   "name": "python3"
  },
  "language_info": {
   "name": "python",
   "version": "3.11.6"
  },
  "orig_nbformat": 4
 },
 "nbformat": 4,
 "nbformat_minor": 2
}
