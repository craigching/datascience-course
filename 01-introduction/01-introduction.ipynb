{
 "cells": [
  {
   "cell_type": "markdown",
   "metadata": {
    "slideshow": {
     "slide_type": "slide"
    }
   },
   "source": [
    "## Scope\n",
    "\n",
    "* Machine Learning Theory (light!)\n",
    "* Understand when to use different algorithms\n",
    "* Focus on traditional machine learning to begin with\n",
    "  + Build up for understanding deep learning theory\n",
    "* Learn how to implement machine learning algorithms\n",
    "* Open ended, consider contributing!"
   ]
  },
  {
   "cell_type": "markdown",
   "metadata": {
    "slideshow": {
     "slide_type": "slide"
    }
   },
   "source": [
    "## Books\n",
    "<image src=\"./images/ISL_Cover_2.jpg\" height=\"400\" width=\"200\">"
   ]
  },
  {
   "cell_type": "markdown",
   "metadata": {
    "slideshow": {
     "slide_type": "slide"
    }
   },
   "source": [
    "## Books\n",
    "<image src=\"./images/CoverII_small.jpg\" height=\"400\" width=\"200\">"
   ]
  },
  {
   "cell_type": "markdown",
   "metadata": {
    "slideshow": {
     "slide_type": "slide"
    }
   },
   "source": [
    "## Books\n",
    "\n",
    "* An Introduction to Statistical Learning with Applications in Python (ISLP)\n",
    "    + Focused on applying statistical learning\n",
    "    + Our primary book for the meetups\n",
    "    + Available at https://www.statlearning.com\n",
    "* The Elements of Statistical Learning (ESL)\n",
    "    + Provides the theory\n",
    "    + We may use this for some deeper dives\n",
    "    + Available at http://statweb.stanford.edu/~tibs/ElemStatLearn/"
   ]
  },
  {
   "cell_type": "markdown",
   "metadata": {
    "slideshow": {
     "slide_type": "slide"
    }
   },
   "source": [
    "## Python Frameworks\n",
    "\n",
    "* Scikit-learn, SciPy, NumPy\n",
    "* Pandas\n",
    "* Matplotlib, Seaborn\n",
    "* TensorFlow, PyTorch"
   ]
  },
  {
   "cell_type": "markdown",
   "metadata": {
    "slideshow": {
     "slide_type": "slide"
    }
   },
   "source": [
    "## Jupyter\n",
    "\n",
    "* Web-based interactive notebooks\n",
    "* Create reproducible experiements and tutorials\n",
    "* \"Share\" them with others\n",
    "* Look into Jupyter Hub service"
   ]
  },
  {
   "cell_type": "markdown",
   "metadata": {
    "slideshow": {
     "slide_type": "slide"
    }
   },
   "source": [
    "## Goals of the Data Science Meetup\n",
    "\n",
    "* Have fun!\n",
    "    + Forum for taking risks\n",
    "* Learn about the topic of machine learning\n",
    "* ISLP is not the end\n"
   ]
  },
  {
   "cell_type": "markdown",
   "metadata": {
    "slideshow": {
     "slide_type": "slide"
    }
   },
   "source": [
    "## Structure of the Data Science Meetup\n",
    "\n",
    "* Structured sessions\n",
    "    + Interaction encouraged\n",
    "* Presentations availble on public github\n",
    "    + At https://github.com/craigching/datascience-course\n",
    "* Regular sessions and will be recorded\n",
    "* Labs\n",
    "    + Volunteer to present?\n",
    "* Open ended"
   ]
  },
  {
   "cell_type": "markdown",
   "metadata": {
    "slideshow": {
     "slide_type": "slide"
    }
   },
   "source": [
    "## Introduction to Statistical Learning\n",
    "\n",
    "![width](./images/plots.png)\n"
   ]
  },
  {
   "cell_type": "markdown",
   "metadata": {
    "slideshow": {
     "slide_type": "slide"
    }
   },
   "source": [
    "## Exploring Data\n",
    "\n",
    "* Quantitative/continuous values\n",
    "    + Age\n",
    "    + Wage\n",
    "* Qualitative/categorical values\n",
    "    + Education level\n",
    "    + Stock movement (up, down)\n",
    "    + Low, medium, high (ordered categorical)"
   ]
  },
  {
   "cell_type": "markdown",
   "metadata": {
    "slideshow": {
     "slide_type": "slide"
    }
   },
   "source": [
    "## History of Statistical Learning\n",
    "\n",
    "* Method of Least Squares\n",
    "    + Legendre, Gauss beginning 19th century\n",
    "    + Basis of linear regression\n",
    "    + Predict quantitative values\n",
    "* Linear Discriminant Analysis\n",
    "    + Fisher, 1936\n",
    "    + Predict qualitative values\n",
    "* Logistic Regression\n",
    "    + Various, 1940's\n",
    "    + Alternative to LDA\n",
    "* Generalized Linear Models\n",
    "    + Nelder and Wedderburn, early 1970's"
   ]
  },
  {
   "cell_type": "markdown",
   "metadata": {
    "slideshow": {
     "slide_type": "slide"
    }
   },
   "source": [
    "## ISLP Premises\n",
    "\n",
    "* Many statistical learning methods are relevant and useful in a wide range of academic and non-academic disciplines, beyond just the statistical sciences\n",
    "* Statistical learning should not be viewed as a series of black boxes\n",
    "* While it is important to know what job is performed by each cog, it is not necessary to have the skills to construct the machine inside the box!\n",
    "* We presume that the reader is interested in applying statistical learning methods to real-world problems"
   ]
  }
 ],
 "metadata": {
  "kernelspec": {
   "display_name": "Python 3 (ipykernel)",
   "language": "python",
   "name": "python3"
  },
  "language_info": {
   "codemirror_mode": {
    "name": "ipython",
    "version": 3
   },
   "file_extension": ".py",
   "mimetype": "text/x-python",
   "name": "python",
   "nbconvert_exporter": "python",
   "pygments_lexer": "ipython3",
   "version": "3.11.6"
  }
 },
 "nbformat": 4,
 "nbformat_minor": 4
}
